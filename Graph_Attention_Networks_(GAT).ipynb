{
  "nbformat": 4,
  "nbformat_minor": 0,
  "metadata": {
    "kernelspec": {
      "display_name": "Python 3",
      "language": "python",
      "name": "python3"
    },
    "language_info": {
      "codemirror_mode": {
        "name": "ipython",
        "version": 3
      },
      "file_extension": ".py",
      "mimetype": "text/x-python",
      "name": "python",
      "nbconvert_exporter": "python",
      "pygments_lexer": "ipython3",
      "version": "3.8.3"
    },
    "colab": {
      "name": "Graph Attention Networks (GAT).ipynb",
      "provenance": []
    }
  },
  "cells": [
    {
      "cell_type": "markdown",
      "metadata": {
        "id": "4ffzMxwmV72U"
      },
      "source": [
        "# Tutorial3: GAT implementation"
      ]
    },
    {
      "cell_type": "markdown",
      "metadata": {
        "id": "HHM-L4YzV72W"
      },
      "source": [
        "## Outline"
      ]
    },
    {
      "cell_type": "markdown",
      "metadata": {
        "id": "FIgox1LMV72W"
      },
      "source": [
        "- Implementation of GAT"
      ]
    },
    {
      "cell_type": "markdown",
      "metadata": {
        "id": "HerL9qDaV72X"
      },
      "source": [
        "Official resources:\n",
        "* [Code](https://dsgiitr.com/blogs/gat/)"
      ]
    },
    {
      "cell_type": "code",
      "metadata": {
        "id": "UlC-M0jLV72X"
      },
      "source": [
        "import numpy as np\n",
        "import torch\n",
        "import torch.nn as nn\n",
        "import torch.nn.functional as F"
      ],
      "execution_count": 1,
      "outputs": []
    },
    {
      "cell_type": "markdown",
      "metadata": {
        "id": "e27Bzq96V72Y"
      },
      "source": [
        "## Structure"
      ]
    },
    {
      "cell_type": "code",
      "metadata": {
        "id": "WL0lxV7NV72Y"
      },
      "source": [
        "class GATLayer(nn.Module):\n",
        "    \"\"\"\n",
        "    Simple PyTorch Implementation of the Graph Attention layer.\n",
        "    \"\"\"\n",
        "    def __init__(self):\n",
        "        super(GATLayer, self).__init__()\n",
        "      \n",
        "    def forward(self, input, adj):\n",
        "        print(\"\")"
      ],
      "execution_count": 2,
      "outputs": []
    },
    {
      "cell_type": "markdown",
      "metadata": {
        "id": "9laAoEm7V72Z"
      },
      "source": [
        "## Let's start from the forward method"
      ]
    },
    {
      "cell_type": "markdown",
      "metadata": {
        "id": "SD2pKx8TV72a"
      },
      "source": [
        "### Linear Transformation\n",
        "\n",
        "$$\n",
        "\\bar{h'}_i = \\textbf{W}\\cdot \\bar{h}_i\n",
        "$$\n",
        "with $\\textbf{W}\\in\\mathbb R^{F'\\times F}$ and $\\bar{h}_i\\in\\mathbb R^{F}$.\n",
        "\n",
        "$$\n",
        "\\bar{h'}_i \\in \\mathbb{R}^{F'}\n",
        "$$"
      ]
    },
    {
      "cell_type": "code",
      "metadata": {
        "id": "swOgYTE2V72a",
        "colab": {
          "base_uri": "https://localhost:8080/"
        },
        "outputId": "0265ac32-d7e9-4f33-88b8-a29eef3bac68"
      },
      "source": [
        "in_features = 5\n",
        "out_features = 2\n",
        "nb_nodes = 3\n",
        "\n",
        "W = nn.Parameter(torch.zeros(size=(in_features, out_features))) #xavier paramiter inizializator\n",
        "nn.init.xavier_uniform_(W.data, gain=1.414)\n",
        "\n",
        "input = torch.rand(nb_nodes,in_features) \n",
        "\n",
        "\n",
        "# linear transformation\n",
        "h = torch.mm(input, W)\n",
        "N = h.size()[0]\n",
        "\n",
        "print(h.shape)"
      ],
      "execution_count": 3,
      "outputs": [
        {
          "output_type": "stream",
          "name": "stdout",
          "text": [
            "torch.Size([3, 2])\n"
          ]
        }
      ]
    },
    {
      "cell_type": "markdown",
      "metadata": {
        "id": "DlEM0YRqV72b"
      },
      "source": [
        "### Attention Mechanism"
      ]
    },
    {
      "cell_type": "markdown",
      "metadata": {
        "id": "10R3zKyeV72c"
      },
      "source": [
        "![title](https://github.com/AntonioLonga/PytorchGeometricTutorial/blob/main/Tutorial3/AttentionMechanism.png?raw=1)"
      ]
    },
    {
      "cell_type": "code",
      "metadata": {
        "id": "s7MomMTcV72c",
        "colab": {
          "base_uri": "https://localhost:8080/"
        },
        "outputId": "4f4cd2b0-dfb2-4f71-90d5-e03825735637"
      },
      "source": [
        "a = nn.Parameter(torch.zeros(size=(2*out_features, 1))) #xavier paramiter inizializator\n",
        "nn.init.xavier_uniform_(a.data, gain=1.414)\n",
        "print(a.shape)\n",
        "\n",
        "leakyrelu = nn.LeakyReLU(0.2)  # LeakyReLU"
      ],
      "execution_count": 4,
      "outputs": [
        {
          "output_type": "stream",
          "name": "stdout",
          "text": [
            "torch.Size([4, 1])\n"
          ]
        }
      ]
    },
    {
      "cell_type": "code",
      "metadata": {
        "id": "jAAXaYFBV72c"
      },
      "source": [
        "a_input = torch.cat([h.repeat(1, N).view(N * N, -1), h.repeat(N, 1)], dim=1).view(N, -1, 2 * out_features)"
      ],
      "execution_count": 5,
      "outputs": []
    },
    {
      "cell_type": "markdown",
      "metadata": {
        "id": "b11n2-AQV72d"
      },
      "source": [
        "![title](https://github.com/AntonioLonga/PytorchGeometricTutorial/blob/main/Tutorial3/a_input.png?raw=1)"
      ]
    },
    {
      "cell_type": "code",
      "metadata": {
        "id": "V01iUwH2V72d"
      },
      "source": [
        "e = leakyrelu(torch.matmul(a_input, a).squeeze(2))"
      ],
      "execution_count": 6,
      "outputs": []
    },
    {
      "cell_type": "code",
      "metadata": {
        "id": "fC-Eg7GbV72d",
        "colab": {
          "base_uri": "https://localhost:8080/"
        },
        "outputId": "39f4ae04-50b1-46a0-d93c-1f33bd4ddf38"
      },
      "source": [
        "print(a_input.shape,a.shape)\n",
        "print(\"\")\n",
        "print(torch.matmul(a_input,a).shape)\n",
        "print(\"\")\n",
        "print(torch.matmul(a_input,a).squeeze(2).shape)"
      ],
      "execution_count": 7,
      "outputs": [
        {
          "output_type": "stream",
          "name": "stdout",
          "text": [
            "torch.Size([3, 3, 4]) torch.Size([4, 1])\n",
            "\n",
            "torch.Size([3, 3, 1])\n",
            "\n",
            "torch.Size([3, 3])\n"
          ]
        }
      ]
    },
    {
      "cell_type": "markdown",
      "metadata": {
        "id": "fADasSuYV72d"
      },
      "source": [
        "### Masked Attention"
      ]
    },
    {
      "cell_type": "code",
      "metadata": {
        "id": "mgi1jBKNV72d",
        "colab": {
          "base_uri": "https://localhost:8080/"
        },
        "outputId": "2d2d67da-854d-4b8e-f2ff-5f4ac9ecdce9"
      },
      "source": [
        "# Masked Attention\n",
        "adj = torch.randint(2, (3, 3))\n",
        "\n",
        "zero_vec  = -9e15*torch.ones_like(e)\n",
        "print(zero_vec.shape)"
      ],
      "execution_count": 8,
      "outputs": [
        {
          "output_type": "stream",
          "name": "stdout",
          "text": [
            "torch.Size([3, 3])\n"
          ]
        }
      ]
    },
    {
      "cell_type": "code",
      "metadata": {
        "id": "IWseXIiWV72d",
        "colab": {
          "base_uri": "https://localhost:8080/"
        },
        "outputId": "30fb87f2-bb52-41b2-d901-a80bf8d972b9"
      },
      "source": [
        "attention = torch.where(adj > 0, e, zero_vec)\n",
        "print(adj,\"\\n\",e,\"\\n\",zero_vec)\n",
        "attention"
      ],
      "execution_count": 9,
      "outputs": [
        {
          "output_type": "stream",
          "name": "stdout",
          "text": [
            "tensor([[0, 1, 1],\n",
            "        [0, 0, 0],\n",
            "        [1, 1, 1]]) \n",
            " tensor([[-0.0909, -0.1541,  0.0329],\n",
            "        [-0.0459, -0.1091,  0.2579],\n",
            "        [-0.0570, -0.1202,  0.2022]], grad_fn=<LeakyReluBackward0>) \n",
            " tensor([[-9.0000e+15, -9.0000e+15, -9.0000e+15],\n",
            "        [-9.0000e+15, -9.0000e+15, -9.0000e+15],\n",
            "        [-9.0000e+15, -9.0000e+15, -9.0000e+15]])\n"
          ]
        },
        {
          "output_type": "execute_result",
          "data": {
            "text/plain": [
              "tensor([[-9.0000e+15, -1.5407e-01,  3.2850e-02],\n",
              "        [-9.0000e+15, -9.0000e+15, -9.0000e+15],\n",
              "        [-5.7028e-02, -1.2021e-01,  2.0217e-01]], grad_fn=<SWhereBackward>)"
            ]
          },
          "metadata": {},
          "execution_count": 9
        }
      ]
    },
    {
      "cell_type": "code",
      "metadata": {
        "id": "Gok8rM5xV72e"
      },
      "source": [
        ""
      ],
      "execution_count": 9,
      "outputs": []
    },
    {
      "cell_type": "code",
      "metadata": {
        "id": "CPyQzvlxV72e"
      },
      "source": [
        "attention = F.softmax(attention, dim=1)\n",
        "h_prime   = torch.matmul(attention, h)"
      ],
      "execution_count": 10,
      "outputs": []
    },
    {
      "cell_type": "code",
      "metadata": {
        "id": "gYbqso1xV72e",
        "colab": {
          "base_uri": "https://localhost:8080/"
        },
        "outputId": "5af06ad2-8a2d-4090-832e-4b38e8a8aff9"
      },
      "source": [
        "attention"
      ],
      "execution_count": 11,
      "outputs": [
        {
          "output_type": "execute_result",
          "data": {
            "text/plain": [
              "tensor([[0.0000, 0.4534, 0.5466],\n",
              "        [0.3333, 0.3333, 0.3333],\n",
              "        [0.3092, 0.2902, 0.4006]], grad_fn=<SoftmaxBackward>)"
            ]
          },
          "metadata": {},
          "execution_count": 11
        }
      ]
    },
    {
      "cell_type": "code",
      "metadata": {
        "id": "t_WNR4F9V72e",
        "colab": {
          "base_uri": "https://localhost:8080/"
        },
        "outputId": "10e24e89-b2b2-4a93-9b3e-afe2b387aaf4"
      },
      "source": [
        "h_prime"
      ],
      "execution_count": 12,
      "outputs": [
        {
          "output_type": "execute_result",
          "data": {
            "text/plain": [
              "tensor([[-0.7653,  0.2183],\n",
              "        [-0.7495,  0.1521],\n",
              "        [-0.7771,  0.1848]], grad_fn=<MmBackward>)"
            ]
          },
          "metadata": {},
          "execution_count": 12
        }
      ]
    },
    {
      "cell_type": "code",
      "metadata": {
        "id": "5V_CGso_V72f"
      },
      "source": [
        ""
      ],
      "execution_count": 12,
      "outputs": []
    },
    {
      "cell_type": "markdown",
      "metadata": {
        "id": "LmwRXWBAV72f"
      },
      "source": [
        "#### h_prime vs h"
      ]
    },
    {
      "cell_type": "code",
      "metadata": {
        "id": "AaDVhcm3V72f",
        "colab": {
          "base_uri": "https://localhost:8080/"
        },
        "outputId": "7d90be82-fc12-4917-b4e3-dd3d51a635a0"
      },
      "source": [
        "print(h_prime,\"\\n\",h)"
      ],
      "execution_count": 13,
      "outputs": [
        {
          "output_type": "stream",
          "name": "stdout",
          "text": [
            "tensor([[-0.7653,  0.2183],\n",
            "        [-0.7495,  0.1521],\n",
            "        [-0.7771,  0.1848]], grad_fn=<MmBackward>) \n",
            " tensor([[-0.7654,  0.0697],\n",
            "        [-0.4862, -0.0758],\n",
            "        [-0.9968,  0.4623]], grad_fn=<MmBackward>)\n"
          ]
        }
      ]
    },
    {
      "cell_type": "markdown",
      "metadata": {
        "id": "fB7pnUbpV72f"
      },
      "source": [
        "# Build the layer"
      ]
    },
    {
      "cell_type": "code",
      "metadata": {
        "id": "3zTXA_chV72f"
      },
      "source": [
        "class GATLayer(nn.Module):\n",
        "    def __init__(self, in_features, out_features, dropout, alpha, concat=True):\n",
        "        super(GATLayer, self).__init__()\n",
        "        \n",
        "        '''\n",
        "        TODO\n",
        "        '''\n",
        "        \n",
        "    def forward(self, input, adj):\n",
        "        # Linear Transformation\n",
        "        h = torch.mm(input, self.W) # matrix multiplication\n",
        "        N = h.size()[0]\n",
        "\n",
        "        # Attention Mechanism\n",
        "        a_input = torch.cat([h.repeat(1, N).view(N * N, -1), h.repeat(N, 1)], dim=1).view(N, -1, 2 * self.out_features)\n",
        "        e       = self.leakyrelu(torch.matmul(a_input, self.a).squeeze(2))\n",
        "\n",
        "        # Masked Attention\n",
        "        zero_vec  = -9e15*torch.ones_like(e)\n",
        "        attention = torch.where(adj > 0, e, zero_vec)\n",
        "        \n",
        "        attention = F.softmax(attention, dim=1)\n",
        "        attention = F.dropout(attention, self.dropout, training=self.training)\n",
        "        h_prime   = torch.matmul(attention, h)\n",
        "\n",
        "        if self.concat:\n",
        "            return F.elu(h_prime)\n",
        "        else:\n",
        "            return h_prime"
      ],
      "execution_count": null,
      "outputs": []
    },
    {
      "cell_type": "code",
      "metadata": {
        "id": "HIOPpaQHV72f"
      },
      "source": [
        "class GATLayer(nn.Module):\n",
        "    def __init__(self, in_features, out_features, dropout, alpha, concat=True):\n",
        "        super(GATLayer, self).__init__()\n",
        "        self.dropout       = dropout        # drop prob = 0.6\n",
        "        self.in_features   = in_features    # \n",
        "        self.out_features  = out_features   # \n",
        "        self.alpha         = alpha          # LeakyReLU with negative input slope, alpha = 0.2\n",
        "        self.concat        = concat         # conacat = True for all layers except the output layer.\n",
        "\n",
        "        \n",
        "        # Xavier Initialization of Weights\n",
        "        # Alternatively use weights_init to apply weights of choice \n",
        "        self.W = nn.Parameter(torch.zeros(size=(in_features, out_features)))\n",
        "        nn.init.xavier_uniform_(self.W.data, gain=1.414)\n",
        "        \n",
        "        self.a = nn.Parameter(torch.zeros(size=(2*out_features, 1)))\n",
        "        nn.init.xavier_uniform_(self.a.data, gain=1.414)\n",
        "        \n",
        "        # LeakyReLU\n",
        "        self.leakyrelu = nn.LeakyReLU(self.alpha)\n",
        "\n",
        "    def forward(self, input, adj):\n",
        "        # Linear Transformation\n",
        "        h = torch.mm(input, self.W) # matrix multiplication\n",
        "        N = h.size()[0]\n",
        "        print(N)\n",
        "\n",
        "        # Attention Mechanism\n",
        "        a_input = torch.cat([h.repeat(1, N).view(N * N, -1), h.repeat(N, 1)], dim=1).view(N, -1, 2 * self.out_features)\n",
        "        e       = self.leakyrelu(torch.matmul(a_input, self.a).squeeze(2))\n",
        "\n",
        "        # Masked Attention\n",
        "        zero_vec  = -9e15*torch.ones_like(e)\n",
        "        attention = torch.where(adj > 0, e, zero_vec)\n",
        "        \n",
        "        attention = F.softmax(attention, dim=1)\n",
        "        attention = F.dropout(attention, self.dropout, training=self.training)\n",
        "        h_prime   = torch.matmul(attention, h)\n",
        "\n",
        "        if self.concat:\n",
        "            return F.elu(h_prime)\n",
        "        else:\n",
        "            return h_prime"
      ],
      "execution_count": null,
      "outputs": []
    },
    {
      "cell_type": "markdown",
      "metadata": {
        "id": "vIKopHbYV72g"
      },
      "source": [
        "# Use it"
      ]
    },
    {
      "cell_type": "code",
      "metadata": {
        "id": "fU_6OiFgV72g",
        "outputId": "f49e5a4c-de83-47b2-a1fd-f9421eb3f5a3"
      },
      "source": [
        "from torch_geometric.data import Data\n",
        "from torch_geometric.nn import GATConv\n",
        "from torch_geometric.datasets import Planetoid\n",
        "import torch_geometric.transforms as T\n",
        "\n",
        "import matplotlib.pyplot as plt\n",
        "\n",
        "name_data = 'Cora'\n",
        "dataset = Planetoid(root= '/tmp/' + name_data, name = name_data)\n",
        "dataset.transform = T.NormalizeFeatures()\n",
        "\n",
        "print(f\"Number of Classes in {name_data}:\", dataset.num_classes)\n",
        "print(f\"Number of Node Features in {name_data}:\", dataset.num_node_features)"
      ],
      "execution_count": null,
      "outputs": [
        {
          "name": "stdout",
          "output_type": "stream",
          "text": [
            "Downloading https://github.com/kimiyoung/planetoid/raw/master/data/ind.cora.x\n",
            "Downloading https://github.com/kimiyoung/planetoid/raw/master/data/ind.cora.tx\n",
            "Downloading https://github.com/kimiyoung/planetoid/raw/master/data/ind.cora.allx\n",
            "Downloading https://github.com/kimiyoung/planetoid/raw/master/data/ind.cora.y\n",
            "Downloading https://github.com/kimiyoung/planetoid/raw/master/data/ind.cora.ty\n",
            "Downloading https://github.com/kimiyoung/planetoid/raw/master/data/ind.cora.ally\n",
            "Downloading https://github.com/kimiyoung/planetoid/raw/master/data/ind.cora.graph\n",
            "Downloading https://github.com/kimiyoung/planetoid/raw/master/data/ind.cora.test.index\n",
            "Processing...\n",
            "Done!\n",
            "Number of Classes in Cora: 7\n",
            "Number of Node Features in Cora: 1433\n"
          ]
        }
      ]
    },
    {
      "cell_type": "code",
      "metadata": {
        "id": "mVxIayOsV72h",
        "outputId": "73d5f481-13d2-4248-eb05-a28ef6198ac6"
      },
      "source": [
        "class GAT(torch.nn.Module):\n",
        "    def __init__(self):\n",
        "        super(GAT, self).__init__()\n",
        "        self.hid = 8\n",
        "        self.in_head = 8\n",
        "        self.out_head = 1\n",
        "        \n",
        "        \n",
        "        self.conv1 = GATConv(dataset.num_features, self.hid, heads=self.in_head, dropout=0.6)\n",
        "        self.conv2 = GATConv(self.hid*self.in_head, dataset.num_classes, concat=False,\n",
        "                             heads=self.out_head, dropout=0.6)\n",
        "\n",
        "    def forward(self, data):\n",
        "        x, edge_index = data.x, data.edge_index\n",
        "                \n",
        "        x = F.dropout(x, p=0.6, training=self.training)\n",
        "        x = self.conv1(x, edge_index)\n",
        "        x = F.elu(x)\n",
        "        x = F.dropout(x, p=0.6, training=self.training)\n",
        "        x = self.conv2(x, edge_index)\n",
        "        \n",
        "        return F.log_softmax(x, dim=1)\n",
        "    \n",
        "    \n",
        "    \n",
        "device = torch.device('cuda' if torch.cuda.is_available() else 'cpu')\n",
        "device = \"cpu\"\n",
        "\n",
        "model = GAT().to(device)\n",
        "data = dataset[0].to(device)\n",
        "\n",
        "\n",
        "optimizer = torch.optim.Adam(model.parameters(), lr=0.005, weight_decay=5e-4)\n",
        "\n",
        "model.train()\n",
        "for epoch in range(1000):\n",
        "    model.train()\n",
        "    optimizer.zero_grad()\n",
        "    out = model(data)\n",
        "    loss = F.nll_loss(out[data.train_mask], data.y[data.train_mask])\n",
        "    \n",
        "    if epoch%200 == 0:\n",
        "        print(loss)\n",
        "    \n",
        "    loss.backward()\n",
        "    optimizer.step()\n",
        "    \n",
        "    "
      ],
      "execution_count": null,
      "outputs": [
        {
          "name": "stdout",
          "output_type": "stream",
          "text": [
            "tensor(1.9488, grad_fn=<NllLossBackward>)\n",
            "tensor(0.7759, grad_fn=<NllLossBackward>)\n",
            "tensor(0.5363, grad_fn=<NllLossBackward>)\n",
            "tensor(0.6301, grad_fn=<NllLossBackward>)\n",
            "tensor(0.5984, grad_fn=<NllLossBackward>)\n"
          ]
        }
      ]
    },
    {
      "cell_type": "code",
      "metadata": {
        "id": "W2-ZNzcjV72h"
      },
      "source": [
        ""
      ],
      "execution_count": null,
      "outputs": []
    },
    {
      "cell_type": "code",
      "metadata": {
        "id": "khzWRwh0V72h",
        "outputId": "6301441f-9382-4804-fef7-62e09a014da9"
      },
      "source": [
        "model.eval()\n",
        "_, pred = model(data).max(dim=1)\n",
        "correct = float(pred[data.test_mask].eq(data.y[data.test_mask]).sum().item())\n",
        "acc = correct / data.test_mask.sum().item()\n",
        "print('Accuracy: {:.4f}'.format(acc))"
      ],
      "execution_count": null,
      "outputs": [
        {
          "name": "stdout",
          "output_type": "stream",
          "text": [
            "Accuracy: 0.8270\n"
          ]
        }
      ]
    },
    {
      "cell_type": "code",
      "metadata": {
        "id": "m6hR1JWXV72h"
      },
      "source": [
        ""
      ],
      "execution_count": null,
      "outputs": []
    }
  ]
}